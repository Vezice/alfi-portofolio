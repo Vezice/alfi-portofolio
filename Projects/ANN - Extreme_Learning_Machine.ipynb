{
  "nbformat": 4,
  "nbformat_minor": 0,
  "metadata": {
    "colab": {
      "provenance": [],
      "toc_visible": true
    },
    "kernelspec": {
      "name": "python3",
      "display_name": "Python 3"
    }
  },
  "cells": [
    {
      "cell_type": "markdown",
      "metadata": {
        "id": "cBbC4vlK7Hyb"
      },
      "source": [
        "# Extreme Learning Machine"
      ]
    },
    {
      "cell_type": "markdown",
      "metadata": {
        "id": "_WjSkbk57Hlf"
      },
      "source": [
        "## Functions"
      ]
    },
    {
      "cell_type": "markdown",
      "metadata": {
        "id": "RduxLPzY7HaP"
      },
      "source": [
        "### ELM Training"
      ]
    },
    {
      "cell_type": "code",
      "metadata": {
        "id": "g6M5D3hy6_YT"
      },
      "source": [
        "import time\n",
        "import numpy as np\n",
        "\n",
        "def elm_fit(X, target, h, W=None):\n",
        "  start_time = time.time()\n",
        "\n",
        "  if W is None:\n",
        "    W = np.random.uniform(-.1, .1, (h, len(X[0])))\n",
        "\n",
        "  Hinit = X @ W.T\n",
        "  H = 1 / (1 + np.exp(-Hinit))\n",
        "  Ht = H.T\n",
        "  Hp = np.linalg.inv(Ht @ H) @ Ht\n",
        "  beta = Hp @ target\n",
        "  y = H @ beta\n",
        "  mape = sum(abs(y - target) / target) * 100 / len(target)\n",
        "\n",
        "  execution = time.time() - start_time\n",
        "  print(\"Waktu eksekusi: %s detik\" % execution)\n",
        "\n",
        "  return W, beta, mape"
      ],
      "execution_count": null,
      "outputs": []
    },
    {
      "cell_type": "markdown",
      "metadata": {
        "id": "RPmJcJpY7XpN"
      },
      "source": [
        "### Testing"
      ]
    },
    {
      "cell_type": "code",
      "metadata": {
        "id": "38sj5oIK7YAj"
      },
      "source": [
        "def elm_predict(X, W, b, round_output=False):\n",
        "  Hinit = X @ W.T\n",
        "  H = 1 / (1 + np.exp(-Hinit))\n",
        "  y = H @ b\n",
        "\n",
        "  if round_output:\n",
        "    y = [int(round(x)) for x in y]\n",
        "\n",
        "  return y"
      ],
      "execution_count": null,
      "outputs": []
    },
    {
      "cell_type": "markdown",
      "metadata": {
        "id": "INz910K1VLRD"
      },
      "source": [
        "## Iris Dataset Classification"
      ]
    },
    {
      "cell_type": "code",
      "metadata": {
        "id": "SilFnskvVLlr",
        "colab": {
          "base_uri": "https://localhost:8080/"
        },
        "outputId": "e2769986-f7ac-45c3-cc2d-f44746d1fc46"
      },
      "source": [
        "from sklearn import datasets\n",
        "from sklearn.model_selection import train_test_split\n",
        "from sklearn.preprocessing import minmax_scale\n",
        "from sklearn.metrics import accuracy_score\n",
        "\n",
        "iris = datasets.load_iris()\n",
        "X = minmax_scale(iris.data)\n",
        "Y = iris.target\n",
        "Y += 1\n",
        "\n",
        "X_train, X_test, y_train, y_test = train_test_split(X, Y,test_size=.3)\n",
        "W, b, mape = elm_fit(X_train, y_train, 3)\n",
        "\n",
        "print('MAPE:', mape)\n",
        "\n",
        "output = elm_predict(X_test, W, b, round_output=True)\n",
        "accuracy = accuracy_score(output, y_test)\n",
        "\n",
        "print('Output:', output)\n",
        "print('True :', y_test)\n",
        "print('Accuracy:', accuracy)"
      ],
      "execution_count": null,
      "outputs": [
        {
          "output_type": "stream",
          "name": "stdout",
          "text": [
            "Waktu eksekusi: 0.0002982616424560547 detik\n",
            "MAPE: 15.94355005178304\n",
            "Output: [1, 2, 3, 2, 2, 1, 1, 1, 1, 1, 2, 1, 1, 3, 1, 2, 0, 3, 3, 3, 0, 1, 2, 3, 2, 2, 1, 2, 3, 3, 3, 3, 3, 1, 2, 2, 2, 3, 2, 2, 2, 1, 2, 1, 3]\n",
            "True : [1 2 3 2 2 1 1 1 1 1 2 1 1 3 1 3 1 3 3 3 1 1 3 3 2 2 1 2 3 3 2 3 2 1 3 2 2\n",
            " 3 2 2 2 1 2 1 3]\n",
            "Accuracy: 0.8444444444444444\n"
          ]
        }
      ]
    },
    {
      "cell_type": "markdown",
      "metadata": {
        "id": "6LuV62mHemYk"
      },
      "source": [
        "### Trialling Numbers"
      ]
    },
    {
      "cell_type": "code",
      "metadata": {
        "colab": {
          "base_uri": "https://localhost:8080/"
        },
        "id": "9MZbLsVmepym",
        "outputId": "76f7c84d-8c0d-4737-9095-0f28632d4fd0"
      },
      "source": [
        "iris = datasets.load_iris()\n",
        "X = minmax_scale(iris.data)\n",
        "Y = iris.target\n",
        "Y += 1\n",
        "\n",
        "X_train, X_test, y_train, y_test = train_test_split(X, Y,test_size=.3)\n",
        "W, b, mape = elm_fit(X_train, y_train, 30)\n",
        "\n",
        "print('MAPE:', mape)\n",
        "\n",
        "output = elm_predict(X_test, W, b, round_output=True)\n",
        "accuracy = accuracy_score(output, y_test)\n",
        "\n",
        "print('Output:', output)\n",
        "print('True :', y_test)\n",
        "print('Accuracy:', accuracy)"
      ],
      "execution_count": null,
      "outputs": [
        {
          "output_type": "stream",
          "name": "stdout",
          "text": [
            "Waktu eksekusi: 0.0005879402160644531 detik\n",
            "MAPE: 36.694859725077606\n",
            "Output: [0, 1, 2, 2, 3, 2, 1, 0, 2, 3, 1, 0, 0, 2, 3, 2, 0, 1, 2, 2, 0, 2, 2, 1, 0, 0, 0, 2, 2, 0, 0, 2, 1, 3, 2, 3, 3, 2, 0, 2, 3, 1, 2, 1, 2]\n",
            "True : [1 1 3 3 3 2 2 1 2 3 2 1 1 3 3 3 1 2 2 3 1 3 2 2 1 1 1 2 3 1 1 2 2 3 3 3 3\n",
            " 3 1 3 3 2 2 2 3]\n",
            "Accuracy: 0.3333333333333333\n"
          ]
        }
      ]
    },
    {
      "cell_type": "markdown",
      "source": [
        "idk"
      ],
      "metadata": {
        "id": "Xcy-7yl7ODrT"
      }
    }
  ]
}