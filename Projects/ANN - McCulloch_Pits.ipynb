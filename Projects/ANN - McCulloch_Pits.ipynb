{
  "nbformat": 4,
  "nbformat_minor": 0,
  "metadata": {
    "colab": {
      "provenance": [],
      "toc_visible": true,
      "collapsed_sections": [
        "TH2WWbKOYbfi",
        "hqsbbVnjbQg8",
        "u-cpofdCfNUI",
        "yucbIRQSfs4l",
        "8yH-wMNUuLnh",
        "dg__TkVI8Ko9",
        "pjx_Nnmw-Adv"
      ]
    },
    "kernelspec": {
      "name": "python3",
      "display_name": "Python 3"
    }
  },
  "cells": [
    {
      "cell_type": "markdown",
      "source": [
        "# McCulloch-Pitts Neuron"
      ],
      "metadata": {
        "id": "mGIkDUMkHo6m"
      }
    },
    {
      "cell_type": "markdown",
      "source": [
        "## Functions"
      ],
      "metadata": {
        "id": "lVQmswFlE-Aj"
      }
    },
    {
      "cell_type": "markdown",
      "metadata": {
        "id": "TH2WWbKOYbfi"
      },
      "source": [
        "### Binary Step Func"
      ]
    },
    {
      "cell_type": "code",
      "metadata": {
        "id": "bIJkBSh2Wagw"
      },
      "source": [
        "def binstep(x, th=0):\n",
        "    return 1 if x >= th else 0"
      ],
      "execution_count": null,
      "outputs": []
    },
    {
      "cell_type": "markdown",
      "metadata": {
        "id": "hqsbbVnjbQg8"
      },
      "source": [
        "### McCulloch-Pitts Neuron"
      ]
    },
    {
      "cell_type": "code",
      "metadata": {
        "id": "1ib6LYBRbRDF"
      },
      "source": [
        "import numpy as np\n",
        "\n",
        "def MCP(x, w, th):\n",
        "    y_in = np.dot(x, w)\n",
        "    y_out = binstep(y_in, th)\n",
        "\n",
        "    return y_out"
      ],
      "execution_count": null,
      "outputs": []
    },
    {
      "cell_type": "markdown",
      "metadata": {
        "id": "u-cpofdCfNUI"
      },
      "source": [
        "### Count Acc Function"
      ]
    },
    {
      "cell_type": "code",
      "metadata": {
        "id": "ZXiZ_tEhfQQb"
      },
      "source": [
        "def calc_accuracy(a, b):\n",
        "    s = [1 if a[i] == b[i] else 0 for i in range(len(a))]\n",
        "\n",
        "    return sum(s) / len(a)"
      ],
      "execution_count": null,
      "outputs": []
    },
    {
      "cell_type": "markdown",
      "source": [
        "## Logics"
      ],
      "metadata": {
        "id": "MtJCqAd0E8HE"
      }
    },
    {
      "cell_type": "markdown",
      "metadata": {
        "id": "yucbIRQSfs4l"
      },
      "source": [
        "### AND Logic"
      ]
    },
    {
      "cell_type": "code",
      "metadata": {
        "id": "NiNa336XfzuU"
      },
      "source": [
        "def AND(X):\n",
        "    w = 1, 1\n",
        "    th = 2\n",
        "    y = [MCP(i, w, th) for i in X]\n",
        "\n",
        "    return y\n",
        "\n",
        "data = (0, 0), (0, 1), (1, 0), (1, 1)\n",
        "output = AND(data)\n",
        "true = 0, 0, 0, 1\n",
        "accuracy = calc_accuracy(output, true)\n",
        "\n",
        "print('Output:', output)\n",
        "print('True:', true)\n",
        "print('Accuracy:', accuracy)"
      ],
      "execution_count": null,
      "outputs": []
    },
    {
      "cell_type": "markdown",
      "metadata": {
        "id": "8yH-wMNUuLnh"
      },
      "source": [
        "### OR Logic"
      ]
    },
    {
      "cell_type": "code",
      "metadata": {
        "id": "Cjq7S2ax8IHu",
        "colab": {
          "base_uri": "https://localhost:8080/"
        },
        "outputId": "faf2d2b5-406c-4422-c0f9-060a94dbd2e8"
      },
      "source": [
        "def OR(X):\n",
        "    w = 2, 2\n",
        "    th = 2\n",
        "    y = [MCP(i, w, th) for i in X]\n",
        "\n",
        "    return y\n",
        "\n",
        "data = (0, 0), (0, 1), (1, 0), (1, 1)\n",
        "output = OR(data)\n",
        "true = 0, 1, 1, 1\n",
        "accuracy = calc_accuracy(output, true)\n",
        "\n",
        "print('Output:', output)\n",
        "print('True:', true)\n",
        "print('Accuracy:', accuracy)\n"
      ],
      "execution_count": null,
      "outputs": [
        {
          "output_type": "stream",
          "name": "stdout",
          "text": [
            "Output: [0, 1, 1, 1]\n",
            "True: (0, 1, 1, 1)\n",
            "Accuracy: 1.0\n"
          ]
        }
      ]
    },
    {
      "cell_type": "markdown",
      "metadata": {
        "id": "dg__TkVI8Ko9"
      },
      "source": [
        "### ANDNOT Logic"
      ]
    },
    {
      "cell_type": "code",
      "metadata": {
        "id": "8Ccg-2UU8Ugk",
        "colab": {
          "base_uri": "https://localhost:8080/"
        },
        "outputId": "97c99cbe-7474-4a2d-832b-a73ebcfd4827"
      },
      "source": [
        "def ANDNOT(X):\n",
        "    w = 2, -1\n",
        "    th = 2\n",
        "    y = [MCP(i, w, th) for i in X]\n",
        "\n",
        "    return y\n",
        "\n",
        "data = (0, 0), (0, 1), (1, 0), (1, 1)\n",
        "output = ANDNOT(data)\n",
        "true = 0, 0, 1, 0\n",
        "accuracy = calc_accuracy(output, true)\n",
        "\n",
        "print('Output:', output)\n",
        "print('True:', true)\n",
        "print('Accuracy:', accuracy)"
      ],
      "execution_count": null,
      "outputs": [
        {
          "output_type": "stream",
          "name": "stdout",
          "text": [
            "Output: [0, 0, 1, 0]\n",
            "True: (0, 0, 1, 0)\n",
            "Accuracy: 1.0\n"
          ]
        }
      ]
    },
    {
      "cell_type": "markdown",
      "metadata": {
        "id": "pjx_Nnmw-Adv"
      },
      "source": [
        "### XOR Logic"
      ]
    },
    {
      "cell_type": "code",
      "metadata": {
        "id": "DLbzE9yl-JFR",
        "colab": {
          "base_uri": "https://localhost:8080/"
        },
        "outputId": "c176ed35-40fd-4f81-c516-4027da659772"
      },
      "source": [
        "def XOR(X):\n",
        "    X_flip = [(i[1], i[0]) for i in X]\n",
        "    y1 = ANDNOT(X)\n",
        "    y2 = ANDNOT(X_flip)\n",
        "    y = zip(y1, y2)\n",
        "    z = OR(y)\n",
        "\n",
        "    return z\n",
        "\n",
        "data = (0, 0), (0, 1), (1, 0), (1, 1)\n",
        "output = XOR(data)\n",
        "true = 0, 1, 1, 0\n",
        "accuracy = calc_accuracy(output, true)\n",
        "\n",
        "print('Output:', output)\n",
        "print('True:', true)\n",
        "print('Accuracy:', accuracy)\n"
      ],
      "execution_count": null,
      "outputs": [
        {
          "output_type": "stream",
          "name": "stdout",
          "text": [
            "Output: [0, 1, 1, 0]\n",
            "True: (0, 1, 1, 0)\n",
            "Accuracy: 1.0\n"
          ]
        }
      ]
    }
  ]
}